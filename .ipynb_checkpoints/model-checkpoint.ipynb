{
 "cells": [
  {
   "cell_type": "code",
   "execution_count": 1,
   "id": "a2784e92",
   "metadata": {},
   "outputs": [],
   "source": [
    "import pandas as pd\n",
    "import numpy as np\n",
    "import matplotlib.pyplot as plt\n",
    "import seaborn as sns\n",
    "from sklearn.model_selection import train_test_split, cross_val_score, GridSearchCV\n",
    "from sklearn.preprocessing import StandardScaler, LabelEncoder\n",
    "from sklearn.ensemble import RandomForestClassifier\n",
    "from sklearn.metrics import classification_report, confusion_matrix, accuracy_score, roc_auc_score, roc_curve\n",
    "from imblearn.over_sampling import SMOTE\n",
    "import xgboost as xgb\n",
    "import shap\n",
    "import warnings\n",
    "warnings.filterwarnings('ignore')"
   ]
  },
  {
   "cell_type": "code",
   "execution_count": 2,
   "id": "687e4ab3",
   "metadata": {},
   "outputs": [],
   "source": [
    "# Set random seed for reproducibility\n",
    "np.random.seed(42)"
   ]
  },
  {
   "cell_type": "code",
   "execution_count": 3,
   "id": "c4f89125",
   "metadata": {},
   "outputs": [],
   "source": [
    "# Configure plotting\n",
    "plt.style.use('default')\n",
    "sns.set_palette(\"husl\")"
   ]
  },
  {
   "cell_type": "code",
   "execution_count": 4,
   "id": "32734569",
   "metadata": {},
   "outputs": [],
   "source": [
    "data_path = r\"C:\\Users\\Saket\\Desktop\\ML\\Loan Default Prediction Model\\data\\Loan_Default.csv\"\n",
    "df = pd.read_csv(data_path)"
   ]
  },
  {
   "cell_type": "code",
   "execution_count": 5,
   "id": "51ceea09",
   "metadata": {},
   "outputs": [
    {
     "name": "stdout",
     "output_type": "stream",
     "text": [
      "Dataset shape: (148670, 34)\n",
      "Dataset columns: ['ID', 'year', 'loan_limit', 'Gender', 'approv_in_adv', 'loan_type', 'loan_purpose', 'Credit_Worthiness', 'open_credit', 'business_or_commercial', 'loan_amount', 'rate_of_interest', 'Interest_rate_spread', 'Upfront_charges', 'term', 'Neg_ammortization', 'interest_only', 'lump_sum_payment', 'property_value', 'construction_type', 'occupancy_type', 'Secured_by', 'total_units', 'income', 'credit_type', 'Credit_Score', 'co-applicant_credit_type', 'age', 'submission_of_application', 'LTV', 'Region', 'Security_Type', 'Status', 'dtir1']\n",
      "\n",
      "First few rows:\n",
      "      ID  year loan_limit             Gender approv_in_adv loan_type  \\\n",
      "0  24890  2019         cf  Sex Not Available         nopre     type1   \n",
      "1  24891  2019         cf               Male         nopre     type2   \n",
      "2  24892  2019         cf               Male           pre     type1   \n",
      "3  24893  2019         cf               Male         nopre     type1   \n",
      "4  24894  2019         cf              Joint           pre     type1   \n",
      "\n",
      "  loan_purpose Credit_Worthiness open_credit business_or_commercial  ...  \\\n",
      "0           p1                l1        nopc                  nob/c  ...   \n",
      "1           p1                l1        nopc                    b/c  ...   \n",
      "2           p1                l1        nopc                  nob/c  ...   \n",
      "3           p4                l1        nopc                  nob/c  ...   \n",
      "4           p1                l1        nopc                  nob/c  ...   \n",
      "\n",
      "   credit_type  Credit_Score  co-applicant_credit_type    age  \\\n",
      "0          EXP           758                       CIB  25-34   \n",
      "1         EQUI           552                       EXP  55-64   \n",
      "2          EXP           834                       CIB  35-44   \n",
      "3          EXP           587                       CIB  45-54   \n",
      "4         CRIF           602                       EXP  25-34   \n",
      "\n",
      "   submission_of_application        LTV Region Security_Type  Status dtir1  \n",
      "0                    to_inst  98.728814  south        direct       1  45.0  \n",
      "1                    to_inst        NaN  North        direct       1   NaN  \n",
      "2                    to_inst  80.019685  south        direct       0  46.0  \n",
      "3                   not_inst  69.376900  North        direct       0  42.0  \n",
      "4                   not_inst  91.886544  North        direct       0  39.0  \n",
      "\n",
      "[5 rows x 34 columns]\n"
     ]
    }
   ],
   "source": [
    "print(f\"Dataset shape: {df.shape}\")\n",
    "print(f\"Dataset columns: {df.columns.tolist()}\")\n",
    "print(f\"\\nFirst few rows:\")\n",
    "print(df.head())"
   ]
  },
  {
   "cell_type": "code",
   "execution_count": 6,
   "id": "3d88290d",
   "metadata": {},
   "outputs": [
    {
     "name": "stdout",
     "output_type": "stream",
     "text": [
      "\n",
      "Dataset Info:\n",
      "<class 'pandas.core.frame.DataFrame'>\n",
      "RangeIndex: 148670 entries, 0 to 148669\n",
      "Data columns (total 34 columns):\n",
      " #   Column                     Non-Null Count   Dtype  \n",
      "---  ------                     --------------   -----  \n",
      " 0   ID                         148670 non-null  int64  \n",
      " 1   year                       148670 non-null  int64  \n",
      " 2   loan_limit                 145326 non-null  object \n",
      " 3   Gender                     148670 non-null  object \n",
      " 4   approv_in_adv              147762 non-null  object \n",
      " 5   loan_type                  148670 non-null  object \n",
      " 6   loan_purpose               148536 non-null  object \n",
      " 7   Credit_Worthiness          148670 non-null  object \n",
      " 8   open_credit                148670 non-null  object \n",
      " 9   business_or_commercial     148670 non-null  object \n",
      " 10  loan_amount                148670 non-null  int64  \n",
      " 11  rate_of_interest           112231 non-null  float64\n",
      " 12  Interest_rate_spread       112031 non-null  float64\n",
      " 13  Upfront_charges            109028 non-null  float64\n",
      " 14  term                       148629 non-null  float64\n",
      " 15  Neg_ammortization          148549 non-null  object \n",
      " 16  interest_only              148670 non-null  object \n",
      " 17  lump_sum_payment           148670 non-null  object \n",
      " 18  property_value             133572 non-null  float64\n",
      " 19  construction_type          148670 non-null  object \n",
      " 20  occupancy_type             148670 non-null  object \n",
      " 21  Secured_by                 148670 non-null  object \n",
      " 22  total_units                148670 non-null  object \n",
      " 23  income                     139520 non-null  float64\n",
      " 24  credit_type                148670 non-null  object \n",
      " 25  Credit_Score               148670 non-null  int64  \n",
      " 26  co-applicant_credit_type   148670 non-null  object \n",
      " 27  age                        148470 non-null  object \n",
      " 28  submission_of_application  148470 non-null  object \n",
      " 29  LTV                        133572 non-null  float64\n",
      " 30  Region                     148670 non-null  object \n",
      " 31  Security_Type              148670 non-null  object \n",
      " 32  Status                     148670 non-null  int64  \n",
      " 33  dtir1                      124549 non-null  float64\n",
      "dtypes: float64(8), int64(5), object(21)\n",
      "memory usage: 38.6+ MB\n",
      "None\n",
      "\n",
      "Missing values:\n",
      "ID                               0\n",
      "year                             0\n",
      "loan_limit                    3344\n",
      "Gender                           0\n",
      "approv_in_adv                  908\n",
      "loan_type                        0\n",
      "loan_purpose                   134\n",
      "Credit_Worthiness                0\n",
      "open_credit                      0\n",
      "business_or_commercial           0\n",
      "loan_amount                      0\n",
      "rate_of_interest             36439\n",
      "Interest_rate_spread         36639\n",
      "Upfront_charges              39642\n",
      "term                            41\n",
      "Neg_ammortization              121\n",
      "interest_only                    0\n",
      "lump_sum_payment                 0\n",
      "property_value               15098\n",
      "construction_type                0\n",
      "occupancy_type                   0\n",
      "Secured_by                       0\n",
      "total_units                      0\n",
      "income                        9150\n",
      "credit_type                      0\n",
      "Credit_Score                     0\n",
      "co-applicant_credit_type         0\n",
      "age                            200\n",
      "submission_of_application      200\n",
      "LTV                          15098\n",
      "Region                           0\n",
      "Security_Type                    0\n",
      "Status                           0\n",
      "dtir1                        24121\n",
      "dtype: int64\n"
     ]
    }
   ],
   "source": [
    "# Basic information about the dataset\n",
    "print(f\"\\nDataset Info:\")\n",
    "print(df.info())\n",
    "\n",
    "# Check for missing values\n",
    "print(f\"\\nMissing values:\")\n",
    "print(df.isnull().sum())"
   ]
  },
  {
   "cell_type": "code",
   "execution_count": 7,
   "id": "d46ed62c",
   "metadata": {},
   "outputs": [
    {
     "name": "stdout",
     "output_type": "stream",
     "text": [
      "\n",
      "Target variable distribution:\n",
      "Status\n",
      "0    112031\n",
      "1     36639\n",
      "Name: count, dtype: int64\n"
     ]
    }
   ],
   "source": [
    "# Check target variable distribution\n",
    "if 'Default' in df.columns:\n",
    "    target_col = 'Default'\n",
    "elif 'default' in df.columns:\n",
    "    target_col = 'default'\n",
    "elif 'Status' in df.columns:\n",
    "    target_col = 'Status'\n",
    "else:\n",
    "    # Find the target column (usually the last column or contains 'default', 'status', 'target')\n",
    "    target_col = df.columns[-1]\n",
    "    print(f\"Assuming target column is: {target_col}\")\n",
    "\n",
    "print(f\"\\nTarget variable distribution:\")\n",
    "print(df[target_col].value_counts())"
   ]
  },
  {
   "cell_type": "code",
   "execution_count": 8,
   "id": "b696bd84",
   "metadata": {},
   "outputs": [
    {
     "data": {
      "image/png": "[encoded data removed]",
      "text/plain": [
       "<Figure size 800x600 with 1 Axes>"
      ]
     },
     "metadata": {},
     "output_type": "display_data"
    }
   ],
   "source": [
    "# Visualize target distribution\n",
    "plt.figure(figsize=(8, 6))\n",
    "df[target_col].value_counts().plot(kind='bar')\n",
    "plt.title('Distribution of Target Variable')\n",
    "plt.xlabel(target_col)\n",
    "plt.ylabel('Count')\n",
    "plt.xticks(rotation=0)\n",
    "plt.show()"
   ]
  },
  {
   "cell_type": "code",
   "execution_count": 9,
   "id": "ab6533ff",
   "metadata": {},
   "outputs": [],
   "source": [
    "df_processed = df.copy()"
   ]
  },
  {
   "cell_type": "code",
   "execution_count": 10,
   "id": "53117e78",
   "metadata": {},
   "outputs": [],
   "source": [
    "# Fill numerical missing values with median\n",
    "numeric_columns = df_processed.select_dtypes(include=[np.number]).columns\n",
    "for col in numeric_columns:\n",
    "    if df_processed[col].isnull().sum() > 0:\n",
    "        df_processed[col].fillna(df_processed[col].median(), inplace=True)\n",
    "\n",
    "# Fill categorical missing values with mode\n",
    "categorical_columns = df_processed.select_dtypes(include=['object']).columns\n",
    "for col in categorical_columns:\n",
    "    if col != target_col and df_processed[col].isnull().sum() > 0:\n",
    "        df_processed[col].fillna(df_processed[col].mode()[0], inplace=True)"
   ]
  },
  {
   "cell_type": "code",
   "execution_count": 11,
   "id": "8e08ad60",
   "metadata": {},
   "outputs": [
    {
     "name": "stdout",
     "output_type": "stream",
     "text": [
      "Data preprocessing completed. Shape: (148670, 34)\n"
     ]
    }
   ],
   "source": [
    "# Encode categorical variables\n",
    "label_encoders = {}\n",
    "for col in categorical_columns:\n",
    "    if col != target_col:\n",
    "        le = LabelEncoder()\n",
    "        df_processed[col] = le.fit_transform(df_processed[col].astype(str))\n",
    "        label_encoders[col] = le\n",
    "\n",
    "# Encode target variable if it's categorical\n",
    "if df_processed[target_col].dtype == 'object':\n",
    "    target_encoder = LabelEncoder()\n",
    "    df_processed[target_col] = target_encoder.fit_transform(df_processed[target_col])\n",
    "    print(f\"Target variable encoded: {target_encoder.classes_}\")\n",
    "\n",
    "print(f\"Data preprocessing completed. Shape: {df_processed.shape}\")"
   ]
  },
  {
   "cell_type": "code",
   "execution_count": 12,
   "id": "abde3d4f",
   "metadata": {},
   "outputs": [
    {
     "name": "stdout",
     "output_type": "stream",
     "text": [
      "\n",
      "==================================================\n",
      "FEATURE SELECTION\n",
      "==================================================\n"
     ]
    }
   ],
   "source": [
    "print(\"\\n\" + \"=\"*50)\n",
    "print(\"FEATURE SELECTION\")\n",
    "print(\"=\"*50)"
   ]
  },
  {
   "cell_type": "code",
   "execution_count": 13,
   "id": "84ae4dd2",
   "metadata": {},
   "outputs": [
    {
     "name": "stdout",
     "output_type": "stream",
     "text": [
      "Initial number of features: 33\n"
     ]
    }
   ],
   "source": [
    "# Separate features and target\n",
    "X = df_processed.drop(columns=[target_col])\n",
    "y = df_processed[target_col]\n",
    "\n",
    "print(f\"Initial number of features: {X.shape[1]}\")"
   ]
  },
  {
   "cell_type": "code",
   "execution_count": 14,
   "id": "b2db14d9",
   "metadata": {},
   "outputs": [
    {
     "name": "stdout",
     "output_type": "stream",
     "text": [
      "\n",
      "1. Correlation Analysis...\n",
      "Found 3 highly correlated feature pairs\n"
     ]
    }
   ],
   "source": [
    "# Step 1: Correlation Analysis\n",
    "print(\"\\n1. Correlation Analysis...\")\n",
    "correlation_matrix = X.corr()\n",
    "\n",
    "# Remove highly correlated features (correlation > 0.9)\n",
    "high_corr_pairs = []\n",
    "for i in range(len(correlation_matrix.columns)):\n",
    "    for j in range(i):\n",
    "        if abs(correlation_matrix.iloc[i, j]) > 0.9:\n",
    "            colname_i = correlation_matrix.columns[i]\n",
    "            colname_j = correlation_matrix.columns[j]\n",
    "            high_corr_pairs.append((colname_i, colname_j, correlation_matrix.iloc[i, j]))\n",
    "\n",
    "print(f\"Found {len(high_corr_pairs)} highly correlated feature pairs\")"
   ]
  },
  {
   "cell_type": "code",
   "execution_count": 15,
   "id": "ba50a75c",
   "metadata": {},
   "outputs": [
    {
     "name": "stdout",
     "output_type": "stream",
     "text": [
      "After correlation analysis: 31 features\n"
     ]
    }
   ],
   "source": [
    "# Remove one feature from each highly correlated pair\n",
    "features_to_remove = set()\n",
    "for pair in high_corr_pairs:\n",
    "    # Remove the second feature in the pair\n",
    "    features_to_remove.add(pair[1])\n",
    "\n",
    "X_reduced = X.drop(columns=list(features_to_remove))\n",
    "print(f\"After correlation analysis: {X_reduced.shape[1]} features\")"
   ]
  },
  {
   "cell_type": "code",
   "execution_count": 16,
   "id": "74e230dc",
   "metadata": {},
   "outputs": [
    {
     "name": "stdout",
     "output_type": "stream",
     "text": [
      "\n",
      "2. Random Forest Feature Importance...\n",
      "Top 20 most important features:\n",
      "                      feature  importance\n",
      "12       Interest_rate_spread    0.394293\n",
      "13            Upfront_charges    0.263368\n",
      "11           rate_of_interest    0.157932\n",
      "27                        LTV    0.037036\n",
      "18             property_value    0.036733\n",
      "22                credit_type    0.033672\n",
      "30                      dtir1    0.027146\n",
      "21                     income    0.006594\n",
      "26  submission_of_application    0.006202\n",
      "17           lump_sum_payment    0.005367\n",
      "24   co-applicant_credit_type    0.005100\n",
      "9      business_or_commercial    0.004863\n",
      "15          Neg_ammortization    0.004268\n",
      "10                loan_amount    0.003323\n",
      "5                   loan_type    0.002640\n",
      "14                       term    0.001917\n",
      "6                loan_purpose    0.001769\n",
      "3                      Gender    0.001276\n",
      "19             occupancy_type    0.001086\n",
      "0                          ID    0.000961\n"
     ]
    }
   ],
   "source": [
    "# Step 2: Random Forest Feature Importance\n",
    "print(\"\\n2. Random Forest Feature Importance...\")\n",
    "rf = RandomForestClassifier(n_estimators=100, random_state=42)\n",
    "rf.fit(X_reduced, y)\n",
    "\n",
    "# Get feature importance\n",
    "feature_importance = pd.DataFrame({\n",
    "    'feature': X_reduced.columns,\n",
    "    'importance': rf.feature_importances_\n",
    "}).sort_values('importance', ascending=False)\n",
    "\n",
    "print(\"Top 20 most important features:\")\n",
    "print(feature_importance.head(20))"
   ]
  },
  {
   "cell_type": "code",
   "execution_count": 17,
   "id": "ba3f6885",
   "metadata": {},
   "outputs": [
    {
     "name": "stdout",
     "output_type": "stream",
     "text": [
      "\n",
      "Final number of features: 20\n"
     ]
    },
    {
     "data": {
      "image/png": "[encoded data removed]",
      "text/plain": [
       "<Figure size 1000x800 with 1 Axes>"
      ]
     },
     "metadata": {},
     "output_type": "display_data"
    }
   ],
   "source": [
    "# Select top 20 features\n",
    "top_features = feature_importance.head(20)['feature'].tolist()\n",
    "X_final = X_reduced[top_features]\n",
    "\n",
    "print(f\"\\nFinal number of features: {X_final.shape[1]}\")\n",
    "\n",
    "# Visualize feature importance\n",
    "plt.figure(figsize=(10, 8))\n",
    "sns.barplot(data=feature_importance.head(20), x='importance', y='feature')\n",
    "plt.title('Top 20 Feature Importances (Random Forest)')\n",
    "plt.xlabel('Importance')\n",
    "plt.tight_layout()\n",
    "plt.show()"
   ]
  },
  {
   "cell_type": "code",
   "execution_count": 18,
   "id": "509d1d79",
   "metadata": {},
   "outputs": [
    {
     "name": "stdout",
     "output_type": "stream",
     "text": [
      "Training set shape: (118936, 20)\n",
      "Test set shape: (29734, 20)\n",
      "Training set class distribution:\n",
      "Status\n",
      "0    89625\n",
      "1    29311\n",
      "Name: count, dtype: int64\n",
      "Test set class distribution:\n",
      "Status\n",
      "0    22406\n",
      "1     7328\n",
      "Name: count, dtype: int64\n"
     ]
    }
   ],
   "source": [
    "X_train, X_test, y_train, y_test = train_test_split(\n",
    "    X_final, y, test_size=0.2, random_state=42, stratify=y\n",
    ")\n",
    "\n",
    "print(f\"Training set shape: {X_train.shape}\")\n",
    "print(f\"Test set shape: {X_test.shape}\")\n",
    "print(f\"Training set class distribution:\\n{y_train.value_counts()}\")\n",
    "print(f\"Test set class distribution:\\n{y_test.value_counts()}\")"
   ]
  },
  {
   "cell_type": "code",
   "execution_count": 19,
   "id": "88f57c23",
   "metadata": {},
   "outputs": [
    {
     "name": "stdout",
     "output_type": "stream",
     "text": [
      "Original training set class distribution:\n",
      "Status\n",
      "0    89625\n",
      "1    29311\n",
      "Name: count, dtype: int64\n",
      "Balanced training set class distribution:\n",
      "Status\n",
      "0    89625\n",
      "1    89625\n",
      "Name: count, dtype: int64\n"
     ]
    }
   ],
   "source": [
    "# Apply SMOTE to balance the classes\n",
    "smote = SMOTE(random_state=42)\n",
    "X_train_balanced, y_train_balanced = smote.fit_resample(X_train, y_train)\n",
    "\n",
    "print(f\"Original training set class distribution:\\n{y_train.value_counts()}\")\n",
    "print(f\"Balanced training set class distribution:\\n{pd.Series(y_train_balanced).value_counts()}\")"
   ]
  },
  {
   "cell_type": "code",
   "execution_count": 20,
   "id": "0bba0046",
   "metadata": {},
   "outputs": [],
   "source": [
    "scaler = StandardScaler()\n",
    "X_train_scaled = scaler.fit_transform(X_train_balanced)\n",
    "X_test_scaled = scaler.transform(X_test)"
   ]
  },
  {
   "cell_type": "code",
   "execution_count": 21,
   "id": "a641b276",
   "metadata": {},
   "outputs": [],
   "source": [
    "# Define XGBoost model\n",
    "xgb_model = xgb.XGBClassifier(random_state=42, eval_metric='logloss')\n",
    "\n",
    "# Define hyperparameter grid for tuning\n",
    "param_grid = {\n",
    "    'n_estimators': [100, 200, 300],\n",
    "    'max_depth': [3, 4, 5, 6],\n",
    "    'learning_rate': [0.01, 0.1, 0.2],\n",
    "    'subsample': [0.8, 0.9, 1.0],\n",
    "    'colsample_bytree': [0.8, 0.9, 1.0]\n",
    "}"
   ]
  },
  {
   "cell_type": "code",
   "execution_count": null,
   "id": "f896e506",
   "metadata": {},
   "outputs": [],
   "source": []
  }
 ],
 "metadata": {
  "kernelspec": {
   "display_name": "Python 3 (ipykernel)",
   "language": "python",
   "name": "python3"
  },
  "language_info": {
   "codemirror_mode": {
    "name": "ipython",
    "version": 3
   },
   "file_extension": ".py",
   "mimetype": "text/x-python",
   "name": "python",
   "nbconvert_exporter": "python",
   "pygments_lexer": "ipython3",
   "version": "3.11.4"
  }
 },
 "nbformat": 4,
 "nbformat_minor": 5
}
