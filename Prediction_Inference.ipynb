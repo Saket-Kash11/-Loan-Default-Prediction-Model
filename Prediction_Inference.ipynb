{
 "cells": [
  {
   "cell_type": "code",
   "execution_count": 1,
   "id": "b88e4db2",
   "metadata": {},
   "outputs": [],
   "source": [
    "import pandas as pd\n",
    "import joblib\n",
    "import os"
   ]
  },
  {
   "cell_type": "code",
   "execution_count": 2,
   "id": "ae6c2154",
   "metadata": {},
   "outputs": [],
   "source": [
    "def predict_loan_default(new_data, model_dir='model_artifacts'):\n",
    "    \"\"\"\n",
    "    Complete prediction pipeline for new loan applications\n",
    "\n",
    "    Parameters:\n",
    "    new_data: DataFrame with same structure as training data\n",
    "    model_dir: Directory containing saved model artifacts\n",
    "\n",
    "    Returns:\n",
    "    predictions: Binary predictions (0/1)\n",
    "    probabilities: Prediction probabilities\n",
    "    \"\"\"\n",
    "\n",
    "    model = joblib.load(os.path.join(model_dir, 'loan_default_xgb_model.pkl'))\n",
    "    num_imputer = joblib.load(os.path.join(model_dir, 'numerical_imputer.pkl'))\n",
    "    cat_imputer = joblib.load(os.path.join(model_dir, 'categorical_imputer.pkl'))\n",
    "    selected_features = joblib.load(os.path.join(model_dir, 'selected_features.pkl'))\n",
    "    threshold = joblib.load(os.path.join(model_dir, 'optimal_threshold.pkl'))\n",
    "    numerical_features = joblib.load(os.path.join(model_dir, 'numerical_features.pkl'))\n",
    "    categorical_features = joblib.load(os.path.join(model_dir, 'categorical_features.pkl'))\n",
    "\n",
    "    new_data_processed = new_data.copy()\n",
    "\n",
    "    if 'ID' in new_data_processed.columns:\n",
    "        new_data_processed = new_data_processed.drop('ID', axis=1)\n",
    "\n",
    "    new_data_processed[numerical_features] = num_imputer.transform(new_data_processed[numerical_features])\n",
    "    new_data_processed[categorical_features] = cat_imputer.transform(new_data_processed[categorical_features])\n",
    "\n",
    "    new_data_encoded = pd.get_dummies(new_data_processed, columns=categorical_features, drop_first=True)\n",
    "\n",
    "    for feature in selected_features:\n",
    "        if feature not in new_data_encoded.columns:\n",
    "            new_data_encoded[feature] = 0\n",
    "\n",
    "    new_data_final = new_data_encoded[selected_features]\n",
    "\n",
    "    probabilities = model.predict_proba(new_data_final)[:, 1]\n",
    "    predictions = (probabilities >= threshold).astype(int)\n",
    "\n",
    "    return predictions, probabilities"
   ]
  },
  {
   "cell_type": "code",
   "execution_count": 14,
   "id": "f16e3623",
   "metadata": {},
   "outputs": [],
   "source": [
    "new_applications = pd.DataFrame([{\n",
    "    'year': 2025,\n",
    "    'Gender': 'Male',                  # options: 'Male', 'Female', 'Joint', 'Sex Not Available'\n",
    "    'age': '35-44',                    # options: '18-24', '25-34', '35-44', '45-54', '55-64', '65-74', '>74'\n",
    "    'Region': 'central',               # options: 'north', 'south', 'central', etc.\n",
    "    \n",
    "    'loan_amount': 1400000,            # INR, could be 1,400,000\n",
    "    'loan_purpose': 'p3',              # example: 'p1', 'p2', 'p3', 'p4'\n",
    "    'loan_type': 'type3',              # example: 'type1', 'type2', 'type3'\n",
    "    'loan_limit': 'ncf',               # example: 'cf', 'ncf'\n",
    "    \n",
    "    'income': 0,                  # annual income in INR (₹9,50,000)\n",
    "    'Credit_Score': 305,               # typical CIBIL score range 300–900\n",
    "    'open_credit': 'opc',              # 'opc', 'nopc'\n",
    "    'business_or_commercial': 'nob/c', # 'b/c', 'nob/c'\n",
    "    \n",
    "    'property_value': 2200000,         # INR, could be 2,200,000\n",
    "    'construction_type': 'sb',         # 'sb', 'mh'\n",
    "    'occupancy_type': 'pr',            # 'pr' (primary residence), 'sr' (second home), 'ir' (investment)\n",
    "    'Secured_by': 'home',              # 'home', 'land'\n",
    "    'total_units': '1U',               # '1U', '2U', '3U', '4U'\n",
    "    'Security_Type': 'direct'          # 'direct', 'Indriect'\n",
    "}])\n"
   ]
  },
  {
   "cell_type": "code",
   "execution_count": 15,
   "id": "b61711c8",
   "metadata": {},
   "outputs": [
    {
     "name": "stdout",
     "output_type": "stream",
     "text": [
      "Applicant 1: Predicted Default: Yes (Score: 0.987)\n"
     ]
    }
   ],
   "source": [
    "predictions, probabilities = predict_loan_default(new_applications)\n",
    "\n",
    "for i, (pred, prob) in enumerate(zip(predictions, probabilities)):\n",
    "    print(f\"Applicant {i+1}: Predicted Default: {'Yes' if pred else 'No'} (Score: {prob:.3f})\")"
   ]
  },
  {
   "cell_type": "code",
   "execution_count": null,
   "id": "6a80acd1",
   "metadata": {},
   "outputs": [],
   "source": []
  }
 ],
 "metadata": {
  "kernelspec": {
   "display_name": "Python 3 (ipykernel)",
   "language": "python",
   "name": "python3"
  },
  "language_info": {
   "codemirror_mode": {
    "name": "ipython",
    "version": 3
   },
   "file_extension": ".py",
   "mimetype": "text/x-python",
   "name": "python",
   "nbconvert_exporter": "python",
   "pygments_lexer": "ipython3",
   "version": "3.11.4"
  }
 },
 "nbformat": 4,
 "nbformat_minor": 5
}
